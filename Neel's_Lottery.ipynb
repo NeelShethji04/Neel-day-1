{
  "nbformat": 4,
  "nbformat_minor": 0,
  "metadata": {
    "colab": {
      "name": "Neel's Lottery",
      "provenance": [],
      "authorship_tag": "ABX9TyOTqsjRxC7e/zsR8D+j5/NW",
      "include_colab_link": true
    },
    "kernelspec": {
      "name": "python3",
      "display_name": "Python 3"
    },
    "language_info": {
      "name": "python"
    },
    "accelerator": "TPU"
  },
  "cells": [
    {
      "cell_type": "markdown",
      "metadata": {
        "id": "view-in-github",
        "colab_type": "text"
      },
      "source": [
        "<a href=\"https://colab.research.google.com/github/NeelShethji04/Neel-day-1/blob/main/Neel's_Lottery.ipynb\" target=\"_parent\"><img src=\"https://colab.research.google.com/assets/colab-badge.svg\" alt=\"Open In Colab\"/></a>"
      ]
    },
    {
      "cell_type": "code",
      "metadata": {
        "id": "iHTgqz_GzvhM"
      },
      "source": [
        "   \n",
        "import random\n",
        "\n",
        "maxticavai=int(input(\"Enter the maximum tickets available\"))\n",
        "\n",
        "participants = []\n",
        "\n",
        "for temp in range(maxticavai):\n",
        "  st=\"Enter the participant name - \"+ str(temp + 1) + \"-\"\n",
        "  name=input(st)\n",
        "  participants.append(name)\n",
        "\n",
        "print(\"All our participants - \",participants)\n",
        "\n",
        "n= random.radiant(0,maxticavai-1)\n",
        "\n",
        "print(\"winner of the lottery-\",participants[n])\n"
      ],
      "execution_count": null,
      "outputs": []
    },
    {
      "cell_type": "code",
      "metadata": {
        "id": "GcemW3Cd1eG7"
      },
      "source": [
        ""
      ],
      "execution_count": 9,
      "outputs": []
    }
  ]
}