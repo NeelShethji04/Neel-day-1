{
  "nbformat": 4,
  "nbformat_minor": 0,
  "metadata": {
    "colab": {
      "name": "Neel' PrimeNo. Detection",
      "provenance": [],
      "authorship_tag": "ABX9TyNpSSMNHEiHRinK/Xls7HTt",
      "include_colab_link": true
    },
    "kernelspec": {
      "name": "python3",
      "display_name": "Python 3"
    },
    "language_info": {
      "name": "python"
    },
    "accelerator": "TPU"
  },
  "cells": [
    {
      "cell_type": "markdown",
      "metadata": {
        "id": "view-in-github",
        "colab_type": "text"
      },
      "source": [
        "<a href=\"https://colab.research.google.com/github/NeelShethji04/Neel-day-1/blob/main/Neel'_PrimeNo_Detection.ipynb\" target=\"_parent\"><img src=\"https://colab.research.google.com/assets/colab-badge.svg\" alt=\"Open In Colab\"/></a>"
      ]
    },
    {
      "cell_type": "code",
      "metadata": {
        "colab": {
          "base_uri": "https://localhost:8080/"
        },
        "id": "j9giU4wTjwzy",
        "outputId": "0153541d-b177-4d10-8cad-9eef0a5a8611"
      },
      "source": [
        "n=17\n",
        "\n",
        "for i in range (2,n):\n",
        "   if n % i == 0:\n",
        "     print(\"Not Prime\")\n",
        "     \n",
        "else:print(\"Prime\")"
      ],
      "execution_count": 1,
      "outputs": [
        {
          "output_type": "stream",
          "text": [
            "Prime\n"
          ],
          "name": "stdout"
        }
      ]
    },
    {
      "cell_type": "code",
      "metadata": {
        "id": "G5K432nBk127"
      },
      "source": [
        "\n",
        "def check(n):\n",
        "\n",
        "  for i in range (2,n):\n",
        "   if n % i == 0:\n",
        "     print(\"Not Prime\")\n",
        "  else:\n",
        "     print(\"Prime\")"
      ],
      "execution_count": 6,
      "outputs": []
    },
    {
      "cell_type": "code",
      "metadata": {
        "colab": {
          "base_uri": "https://localhost:8080/"
        },
        "id": "6zHpuXa8lYC_",
        "outputId": "2aa3d73d-5bf7-4d9f-b743-6a39e7662d58"
      },
      "source": [
        "check(17)\n"
      ],
      "execution_count": 7,
      "outputs": [
        {
          "output_type": "stream",
          "text": [
            "Prime\n"
          ],
          "name": "stdout"
        }
      ]
    },
    {
      "cell_type": "code",
      "metadata": {
        "id": "ddMasRKmlne3"
      },
      "source": [
        ""
      ],
      "execution_count": null,
      "outputs": []
    }
  ]
}