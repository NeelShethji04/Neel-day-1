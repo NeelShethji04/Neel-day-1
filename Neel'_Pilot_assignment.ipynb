{
  "nbformat": 4,
  "nbformat_minor": 0,
  "metadata": {
    "colab": {
      "name": "Neel' Pilot assignment",
      "provenance": [],
      "collapsed_sections": [],
      "authorship_tag": "ABX9TyMYMG8Ukf2mYoE/m7Jon3NM",
      "include_colab_link": true
    },
    "kernelspec": {
      "name": "python3",
      "display_name": "Python 3"
    },
    "language_info": {
      "name": "python"
    },
    "accelerator": "TPU"
  },
  "cells": [
    {
      "cell_type": "markdown",
      "metadata": {
        "id": "view-in-github",
        "colab_type": "text"
      },
      "source": [
        "<a href=\"https://colab.research.google.com/github/NeelShethji04/Neel-day-1/blob/main/Neel'_Pilot_assignment.ipynb\" target=\"_parent\"><img src=\"https://colab.research.google.com/assets/colab-badge.svg\" alt=\"Open In Colab\"/></a>"
      ]
    },
    {
      "cell_type": "code",
      "metadata": {
        "colab": {
          "base_uri": "https://localhost:8080/"
        },
        "id": "xZpx2dk99mtH",
        "outputId": "90c8d659-e106-4eb9-abde-ec2740d01ac7"
      },
      "source": [
        "#assignment 3\n",
        "\n",
        "altitude = 1000\n",
        "if altitude <= 1000 :\n",
        "  print(\"You are all set to land!!You may proceed\")\n",
        "elif altitude > 1000 and altitude <= 5000:\n",
        "  print(\"You may deviate your craft to 1000ft first!!\")\n",
        "else:\n",
        "  print(\"Swerve around for a while and try later!!\")\n"
      ],
      "execution_count": 6,
      "outputs": [
        {
          "output_type": "stream",
          "text": [
            "You are all set to land!!You may proceed\n"
          ],
          "name": "stdout"
        }
      ]
    },
    {
      "cell_type": "code",
      "metadata": {
        "colab": {
          "base_uri": "https://localhost:8080/"
        },
        "id": "XE4Qolnt_l8F",
        "outputId": "170e1ac9-ef12-4273-b917-b3a22649ff1c"
      },
      "source": [
        "\n",
        "altitude = 4500\n",
        "if altitude <= 1000 :\n",
        "  print(\"You are all set to land!!You may proceed\")\n",
        "elif altitude > 1000 and altitude <= 5000:\n",
        "  print(\"You may deviate your craft to 1000ft first!!\")\n",
        "else:\n",
        "  print(\"Swerve around for a while and try later!!\")\n"
      ],
      "execution_count": 7,
      "outputs": [
        {
          "output_type": "stream",
          "text": [
            "You may deviate your craft to 1000ft first!!\n"
          ],
          "name": "stdout"
        }
      ]
    },
    {
      "cell_type": "code",
      "metadata": {
        "colab": {
          "base_uri": "https://localhost:8080/"
        },
        "id": "xeXxQj90AjK9",
        "outputId": "d49c1e4b-7d8d-436a-ddd5-e5e3446a6e72"
      },
      "source": [
        "\n",
        "altitude = 6500\n",
        "\n",
        "if altitude <= 1000 :\n",
        "  print(\"You are all set to land!!You may proceed\")\n",
        "elif altitude > 1000 and altitude <= 5000:\n",
        "  print(\"You may deviate your craft to 1000ft first!!\")\n",
        "else:\n",
        "  print(\"Swerve around for a while and try later!!\")"
      ],
      "execution_count": 8,
      "outputs": [
        {
          "output_type": "stream",
          "text": [
            "Swerve around for a while and try later!!\n"
          ],
          "name": "stdout"
        }
      ]
    },
    {
      "cell_type": "code",
      "metadata": {
        "id": "E32nsCBcApMo"
      },
      "source": [
        ""
      ],
      "execution_count": null,
      "outputs": []
    }
  ]
}