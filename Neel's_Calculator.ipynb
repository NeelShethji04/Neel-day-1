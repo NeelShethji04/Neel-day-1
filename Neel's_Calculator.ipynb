{
  "nbformat": 4,
  "nbformat_minor": 0,
  "metadata": {
    "colab": {
      "name": "Neel's_Calculator.ipynb",
      "provenance": [],
      "collapsed_sections": [],
      "include_colab_link": true
    },
    "kernelspec": {
      "name": "python3",
      "display_name": "Python 3"
    },
    "language_info": {
      "name": "python"
    }
  },
  "cells": [
    {
      "cell_type": "markdown",
      "metadata": {
        "id": "view-in-github",
        "colab_type": "text"
      },
      "source": [
        "<a href=\"https://colab.research.google.com/github/NeelShethji04/Neel-day-1/blob/main/Neel's_Calculator.ipynb\" target=\"_parent\"><img src=\"https://colab.research.google.com/assets/colab-badge.svg\" alt=\"Open In Colab\"/></a>"
      ]
    },
    {
      "cell_type": "code",
      "metadata": {
        "colab": {
          "base_uri": "https://localhost:8080/"
        },
        "id": "9RYLu4-mimpQ",
        "outputId": "1a96faea-80a5-46e7-ed3a-84e227f79031"
      },
      "source": [
        "#CALCULATOR\n",
        "\n",
        "#SUBTRACTION\n",
        "\n",
        "a = int(input(\"First number is ->\"))\n",
        "b = int(input(\"Second number is ->\"))\n",
        "\n",
        "diff1 = a - b\n",
        "print(\"The answer is->\", diff1)"
      ],
      "execution_count": null,
      "outputs": [
        {
          "output_type": "stream",
          "text": [
            "First number is ->20\n",
            "Second number is ->10\n",
            "The answer is-> 10\n"
          ],
          "name": "stdout"
        }
      ]
    },
    {
      "cell_type": "code",
      "metadata": {
        "colab": {
          "base_uri": "https://localhost:8080/"
        },
        "id": "Ch0ApObAjY7Q",
        "outputId": "c5a9de76-8dec-49c9-8c47-56a5bede819f"
      },
      "source": [
        "#MULTIPLICATION\n",
        "\n",
        "a = int(input(\"First number is ->\"))\n",
        "b = int(input(\"Second number is ->\"))\n",
        "\n",
        "mul = a*b\n",
        "print(\"the answer is ->\", mul)"
      ],
      "execution_count": null,
      "outputs": [
        {
          "output_type": "stream",
          "text": [
            "First number is ->10\n",
            "Second number is ->5\n",
            "the answer is -> 50\n"
          ],
          "name": "stdout"
        }
      ]
    },
    {
      "cell_type": "code",
      "metadata": {
        "colab": {
          "base_uri": "https://localhost:8080/"
        },
        "id": "JWipR1HNkhMO",
        "outputId": "05384b82-88ae-4ea5-e333-fd3914d2deb5"
      },
      "source": [
        "#DIVISION\n",
        "\n",
        "a = int(input(\"First number is ->\"))\n",
        "b = int(input(\"Second number is ->\"))\n",
        "\n",
        "div = a/b\n",
        "print(\"Your answer is ->\", div)"
      ],
      "execution_count": null,
      "outputs": [
        {
          "output_type": "stream",
          "text": [
            "First number is ->50\n",
            "Second number is ->10\n",
            "Your answer is -> 5.0\n"
          ],
          "name": "stdout"
        }
      ]
    },
    {
      "cell_type": "code",
      "metadata": {
        "id": "XjFc7b0hlkmA"
      },
      "source": [
        ""
      ],
      "execution_count": null,
      "outputs": []
    }
  ]
}