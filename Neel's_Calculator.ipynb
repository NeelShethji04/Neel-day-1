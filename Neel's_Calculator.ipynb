{
  "nbformat": 4,
  "nbformat_minor": 0,
  "metadata": {
    "colab": {
      "name": "Neel's Calculator",
      "provenance": [],
      "collapsed_sections": [],
      "authorship_tag": "ABX9TyMJkB4z6RCjP/Pog9aCbDyy",
      "include_colab_link": true
    },
    "kernelspec": {
      "name": "python3",
      "display_name": "Python 3"
    },
    "language_info": {
      "name": "python"
    },
    "accelerator": "GPU"
  },
  "cells": [
    {
      "cell_type": "markdown",
      "metadata": {
        "id": "view-in-github",
        "colab_type": "text"
      },
      "source": [
        "<a href=\"https://colab.research.google.com/github/NeelShethji04/Neel-day-1/blob/main/Neel's_Calculator.ipynb\" target=\"_parent\"><img src=\"https://colab.research.google.com/assets/colab-badge.svg\" alt=\"Open In Colab\"/></a>"
      ]
    },
    {
      "cell_type": "code",
      "metadata": {
        "colab": {
          "base_uri": "https://localhost:8080/"
        },
        "id": "9RYLu4-mimpQ",
        "outputId": "5e9e2558-b9b8-4e55-c79b-1b5291dfe377"
      },
      "source": [
        "#CALCULATOR\n",
        "\n",
        "#SUBTRACTION\n",
        "\n",
        "a = int(input(\"First number is ->\"))\n",
        "b = int(input(\"Second number is ->\"))\n",
        "\n",
        "diff1 = a - b\n",
        "print(\"The answer is->\", diff1)"
      ],
      "execution_count": null,
      "outputs": [
        {
          "output_type": "stream",
          "text": [
            "Subtraction\n"
          ],
          "name": "stdout"
        }
      ]
    },
    {
      "cell_type": "code",
      "metadata": {
        "colab": {
          "base_uri": "https://localhost:8080/"
        },
        "id": "Ch0ApObAjY7Q",
        "outputId": "540f6406-4dfe-4cf2-89d8-d44f8065702a"
      },
      "source": [
        "#MULTIPLICATION\n",
        "\n",
        "a = int(input(\"First number is ->\"))\n",
        "b = int(input(\"Second number is ->\"))\n",
        "\n",
        "mul = a*b\n",
        "print(\"the answer is ->\", mul)"
      ],
      "execution_count": null,
      "outputs": [
        {
          "output_type": "stream",
          "text": [
            "First number is ->1513\n",
            "Second number is ->2035\n",
            "the answer is -> 3078955\n"
          ],
          "name": "stdout"
        }
      ]
    },
    {
      "cell_type": "code",
      "metadata": {
        "id": "JWipR1HNkhMO"
      },
      "source": [
        "#DIVISION\n",
        "\n",
        "a = int(input(\"First number is ->\"))\n",
        "b = int(input(\"Second number is ->\"))\n",
        "\n",
        "div = a/b\n",
        "print(\"Your answer is ->\", div)"
      ],
      "execution_count": null,
      "outputs": []
    },
    {
      "cell_type": "code",
      "metadata": {
        "id": "XjFc7b0hlkmA"
      },
      "source": [
        ""
      ],
      "execution_count": null,
      "outputs": []
    }
  ]
}